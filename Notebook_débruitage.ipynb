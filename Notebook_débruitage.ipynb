{
 "cells": [
  {
   "cell_type": "code",
   "execution_count": null,
   "id": "6849edba",
   "metadata": {
    "colab": {
     "base_uri": "https://localhost:8080/",
     "height": 42
    },
    "id": "6849edba",
    "outputId": "d7ed905f-2da6-4ea7-9eea-19309c07813d"
   },
   "outputs": [],
   "source": [
    "import numpy as np\n",
    "import scipy as scp\n",
    "import pylab as pyl\n",
    "import matplotlib.pyplot as plt\n",
    "import scipy.io as sio\n",
    "import pandas as pd\n",
    "import holoviews as hv\n",
    "import panel as pn\n",
    "import time\n",
    "from panel.pane import LaTeX\n",
    "hv.extension('bokeh')\n",
    "from PIL import Image\n",
    "from io import BytesIO\n",
    "import requests\n",
    "\n",
    "import os\n",
    "from PIL import Image"
   ]
  },
  {
   "cell_type": "markdown",
   "id": "4b138ec3",
   "metadata": {
    "id": "4b138ec3"
   },
   "source": [
    "# Chargement et affichage de l'image de base"
   ]
  },
  {
   "cell_type": "code",
   "execution_count": null,
   "id": "dadb58c6",
   "metadata": {},
   "outputs": [],
   "source": [
    "!unzip images.zip"
   ]
  },
  {
   "cell_type": "code",
   "execution_count": null,
   "id": "1f32fa98",
   "metadata": {
    "id": "1f32fa98"
   },
   "outputs": [],
   "source": [
    "#chemin_image =  \"/content/margot_pdp.jpg\"\n",
    "#chemin_image =  \"/content/teckel2.jpg\"\n",
    "#chemin_image = \"/content/carrelage.jpg\"\n",
    "chemin_image = \"./lena.jpg\"\n",
    "image = Image.open(chemin_image)\n",
    "image_nbw = image.convert(\"L\")\n",
    "image_nbw.save(chemin_image)\n",
    "image"
   ]
  },
  {
   "cell_type": "code",
   "execution_count": null,
   "id": "f386b4a9",
   "metadata": {
    "id": "f386b4a9"
   },
   "outputs": [],
   "source": [
    "def chargeData(name):\n",
    "    if name == 'lena' :\n",
    "        res=np.array(Image.open(\"./lena.jpg\")).astype(float)\n",
    "    if name == 'carrelage' :\n",
    "        res=np.array(Image.open(\"./carrelage.jpg\")).astype(float)\n",
    "    if name=='Mur_brique':\n",
    "        res=np.array(Image.open(\"/content/Mur_brique.jpg\")).astype(float)\n",
    "    return res\n",
    "\n",
    "def MSE(image1,image2):\n",
    "    mse = np.mean(np.square(image1.astype(float) - image2.astype(float)))\n",
    "    return mse\n",
    "\n",
    "def PSNR(image1, image2, peak=255):\n",
    "    mse = MSE(image1,image2)\n",
    "    psnr = 10*np.log10(peak**2/mse)\n",
    "    return psnr"
   ]
  },
  {
   "cell_type": "code",
   "execution_count": null,
   "id": "846639e1",
   "metadata": {
    "colab": {
     "base_uri": "https://localhost:8080/",
     "height": 482
    },
    "id": "846639e1",
    "outputId": "cce26dc0-b5f2-4ec9-c7e0-c16421e19bef"
   },
   "outputs": [],
   "source": [
    "image=chargeData('lena')\n",
    "imagesRef= {'carrelage' : image}\n",
    "options = dict(cmap='gray',xaxis=None,yaxis=None,width=400,height=400,toolbar=None)\n",
    "pn.Row(hv.Raster(image).opts(**options))"
   ]
  },
  {
   "cell_type": "code",
   "execution_count": null,
   "id": "GDdN9AZPgu33",
   "metadata": {
    "colab": {
     "base_uri": "https://localhost:8080/"
    },
    "id": "GDdN9AZPgu33",
    "outputId": "7c1edea3-eb80-40dd-fcba-2a5079111bde"
   },
   "outputs": [],
   "source": [
    "print(f\"L'image originale est de taille {np.shape(image)}\")"
   ]
  },
  {
   "cell_type": "markdown",
   "id": "ONEDKeVMvcjG",
   "metadata": {
    "id": "ONEDKeVMvcjG"
   },
   "source": [
    "# Reshape de l'image de base (optionnel)\n",
    "\n",
    "On baisse la résolution de l'image pour accélerer les calculs."
   ]
  },
  {
   "cell_type": "code",
   "execution_count": null,
   "id": "CObED1tJiSFu",
   "metadata": {
    "colab": {
     "base_uri": "https://localhost:8080/",
     "height": 482
    },
    "id": "CObED1tJiSFu",
    "outputId": "8a7b6936-8c98-408a-898f-203321231174"
   },
   "outputs": [],
   "source": [
    "new_size =160,160\n",
    "im_good=Image.fromarray(image)\n",
    "im_good = im_good.resize(new_size)\n",
    "im_good_array = np.asarray(im_good)\n",
    "pn.Row(hv.Raster(im_good_array).opts(**options))"
   ]
  },
  {
   "cell_type": "markdown",
   "id": "4d8bb5aa",
   "metadata": {
    "id": "4d8bb5aa"
   },
   "source": [
    "# Bruitage de l'image"
   ]
  },
  {
   "cell_type": "code",
   "execution_count": null,
   "id": "G43BWH5Vg2aJ",
   "metadata": {
    "id": "G43BWH5Vg2aJ"
   },
   "outputs": [],
   "source": [
    "def create_gaussian_noise(img,mean,var):\n",
    "    img = img/255\n",
    "    result = np.copy(img)\n",
    "    # Adding gaussian noise to the image\n",
    "    gauss = np.random.normal(mean, var**0.5, img.shape)\n",
    "    result = result + gauss\n",
    "    result = np.clip(result, 0, 1)\n",
    "    result = result*255\n",
    "    return result"
   ]
  },
  {
   "cell_type": "code",
   "execution_count": null,
   "id": "1895fxOxhAWD",
   "metadata": {
    "colab": {
     "base_uri": "https://localhost:8080/",
     "height": 482
    },
    "id": "1895fxOxhAWD",
    "outputId": "2767bc71-0813-4a73-b4aa-9963b7a140e2"
   },
   "outputs": [],
   "source": [
    "im_noised_array = create_gaussian_noise(im_good_array,mean=0,var=0.005)\n",
    "pn.Row(hv.Raster(im_noised_array).opts(**options))"
   ]
  },
  {
   "cell_type": "code",
   "execution_count": null,
   "id": "SY1_p2A_o9c6",
   "metadata": {
    "colab": {
     "base_uri": "https://localhost:8080/",
     "height": 80
    },
    "id": "SY1_p2A_o9c6",
    "outputId": "6f1b076e-8ef8-4cda-a317-9dfb8c04f88c"
   },
   "outputs": [],
   "source": [
    "psnr=pd.DataFrame([PSNR(im_noised_array, im_good_array)],columns=['PSNR image de base / image bruitée'])\n",
    "display(psnr)"
   ]
  },
  {
   "cell_type": "markdown",
   "id": "VL9uj2QyOmDx",
   "metadata": {
    "id": "VL9uj2QyOmDx"
   },
   "source": [
    "# Débruitage\n",
    "\n",
    "Plusieurs distances peuvent être utilisées pour comparer les patchs entre eux. La meilleure de celles que nous avons testées est la suivante : pour deux patchs $p_1,p_2$, on calcule la distance $d$ entre les deux avec la formule suivante :\n",
    "\n",
    "$$\n",
    "d(p_1,p_2)=e^{-||w \\odot (p_1-p_2)^2||}\n",
    "$$\n",
    "\n",
    "Avec $w$ une matrice des poids associés à chaque pixel. "
   ]
  },
  {
   "cell_type": "code",
   "execution_count": null,
   "id": "dae1dffa",
   "metadata": {},
   "outputs": [],
   "source": [
    "def patch_distance_2d(p1, p2, s, w):\n",
    "    return np.exp(-np.multiply(w,(p1-p2)**2).sum())"
   ]
  },
  {
   "cell_type": "code",
   "execution_count": null,
   "id": "v0LyLqEOaWOa",
   "metadata": {
    "id": "v0LyLqEOaWOa"
   },
   "outputs": [],
   "source": [
    "def big_patch(img, coord_x, coord_y, size_w): # Retourne les coordonnées inférieures de la grosse fenêtre de recherche de patchs (retourne les coordonnées de l'angle en haut à gauche).\n",
    "    \"\"\"\n",
    "    img : image\n",
    "    coord_x : coordonnée x\n",
    "    coord_y : coordonnée y\n",
    "    size_w : taille de la grosse fenêtre\n",
    "    \"\"\"\n",
    "    # On calcule les coordonnées de la grosse fenêtre de recherche\n",
    "    b_inf_x = coord_x - (size_w//2)\n",
    "    b_sup_x = coord_x + (size_w//2)\n",
    "    b_inf_y = coord_y - (size_w//2)\n",
    "    b_sup_y = coord_y + (size_w//2)\n",
    "    # On gère les cas ou on déborde de l'image\n",
    "    if b_inf_x < 0 :\n",
    "        b_sup_x -= b_inf_x\n",
    "        b_inf_x = 0\n",
    "    elif b_sup_x >= np.shape(img)[1] :\n",
    "        b_inf_x -= b_sup_x - (np.shape(img)[1] - 1)\n",
    "        b_sup_x = np.shape(img)[1] - 1\n",
    "    if b_inf_y < 0 :\n",
    "        b_sup_y -= b_inf_y\n",
    "        b_inf_y = 0\n",
    "    elif b_sup_y >= np.shape(img)[0] :\n",
    "        b_inf_y -= b_sup_y - (np.shape(img)[0] - 1)\n",
    "        b_sup_y = np.shape(img)[0] - 1\n",
    "    return int(b_inf_x), int(b_inf_y)\n",
    "\n",
    "def non_local_means_denoising(image,\n",
    "                    small_window_size=7,\n",
    "                    big_window_size=35,\n",
    "                    h=40,\n",
    "                    ): # Débruite une image par moyennes non locales\n",
    "    \"\"\"\n",
    "    image : image à débruiter\n",
    "    small_window_size : taille des petits patchs\n",
    "    big_window_size : tailles des grosses fenêtres de recherche de patchs\n",
    "    h : parametre influençant le calcul des distances entre les patchs\n",
    "    \"\"\"\n",
    "    # On affiche le nombre total d'itérations\n",
    "    iterator = 0\n",
    "    total_iterations = np.shape(image)[1]*np.shape(image)[0]*(big_window_size - small_window_size + 1)**2\n",
    "    print(\"TOTAL ITERATIONS = \", total_iterations)\n",
    "    # Les tailles des fenêtres doivent être impaires pour qu'elles soient centrées sur un pixel\n",
    "    if small_window_size % 2 == 0:\n",
    "        small_window_size += 1\n",
    "    if big_window_size % 2 == 0:\n",
    "        big_window_size += 1\n",
    "    # On définit les moitiés de patchs\n",
    "    small_half_width = small_window_size // 2\n",
    "    big_half_width = big_window_size // 2\n",
    "    # On crée une image avec du padding sur les cotés\n",
    "    padded_image = np.ascontiguousarray(\n",
    "        np.pad(image, ((small_half_width, small_half_width), (small_half_width, small_half_width)),\n",
    "               mode='reflect').astype(np.float64))\n",
    "    # On crée l'image de sortie\n",
    "    output_image = np.zeros_like(padded_image)\n",
    "    # On crée les parametres de calculs de distances entre patchs\n",
    "    t = small_window_size//2\n",
    "    A = ((small_window_size - 1.) / 4.)\n",
    "    range_vals = np.arange(-t, t + 1)\n",
    "    xg_row, xg_col = np.meshgrid(range_vals, range_vals, indexing='ij')\n",
    "    # On crée une matrice de poids w, qui pondère le calcul des distances entre patchs. Les pixels centraux des patchs sont ceux qui influencent le plus les distances entre patchs\n",
    "    w = np.ascontiguousarray(np.exp(-(xg_row ** 2  + xg_col ** 2)/ (2 * A**2)))\n",
    "    w *= 1. / (np.sum(w) * h**2)\n",
    "    # On se balade sur les colonnes\n",
    "    for imageX in range(small_half_width, small_half_width + np.shape(image)[1]):\n",
    "        # On se balade sur les lignes\n",
    "        for imageY in range(small_half_width, small_half_width + np.shape(image)[0]):\n",
    "            # On trouve la petite fenêtre de base\n",
    "            patch_ref = padded_image[imageY - small_half_width : imageY + small_half_width + 1, imageX - small_half_width : imageX + small_half_width + 1]\n",
    "            # On trouve les coordonnées inférieures de la première petite fenêtre comprise dans la grosse fenêtre\n",
    "            bWinX, bWinY = big_patch(img = padded_image, coord_x = imageX , coord_y = imageY , size_w = big_window_size)\n",
    "            denom = 0.0\n",
    "            num = 0.0\n",
    "            # On se balaye sur toutes les petites fenêtres possibles\n",
    "            for sWinX in range(bWinX, bWinX + big_window_size - small_window_size + 1):\n",
    "                for sWinY in range(bWinY, bWinY + big_window_size - small_window_size + 1):\n",
    "                    moving_patch = padded_image[sWinY : sWinY + small_window_size ,sWinX : sWinX + small_window_size]\n",
    "                    # On calcule le poids, qui résulte de la distance pondérée entre les deux patchs\n",
    "                    weight = patch_distance_2d(p1 = patch_ref, p2 = moving_patch, s = small_window_size, w = w)\n",
    "                    denom += weight\n",
    "                    num += weight * padded_image[sWinY + small_half_width, sWinX + small_half_width]\n",
    "                    # On affiche tous les 5 pourcents\n",
    "                    iterator += 1\n",
    "                    percent_complete = iterator*100/total_iterations\n",
    "                    # On affiche tous les 5% d'itérations\n",
    "                    if percent_complete % 5 == 0:\n",
    "                        print('% COMPLETE = ', percent_complete,end='\\r')\n",
    "\n",
    "            # On assigne la valeur au pixel final\n",
    "            output_image[imageY, imageX] = num / denom\n",
    "\n",
    "    return output_image[small_half_width:small_half_width+np.shape(image)[0],small_half_width:small_half_width+np.shape(image)[1]]"
   ]
  },
  {
   "cell_type": "markdown",
   "id": "ijQau4gPNc9b",
   "metadata": {
    "id": "ijQau4gPNc9b"
   },
   "source": [
    "\n",
    "\n",
    "La taille de la fenêtre influe sur le temps d'execution en $O(n^2)$. Pour accélerer le processus, on peut éventuellement choisir une taille de fenêtre relativement petite et appliquer plusieurs fois l'algorithme. "
   ]
  },
  {
   "cell_type": "code",
   "execution_count": null,
   "id": "N9Uc1BqFu6Fn",
   "metadata": {
    "colab": {
     "base_uri": "https://localhost:8080/",
     "height": 568
    },
    "id": "N9Uc1BqFu6Fn",
    "outputId": "3484c47f-6290-4f6a-b361-a34a416b9985"
   },
   "outputs": [],
   "source": [
    "n_epochs=1\n",
    "t=time.time()\n",
    "im_denoised_array=im_noised_array.copy()\n",
    "for _ in range(n_epochs):    \n",
    "    im_denoised_array = non_local_means_denoising(im_denoised_array,\n",
    "                        small_window_size = 7,\n",
    "                        big_window_size = 20,\n",
    "                        h = 8)\n",
    "print('temps d\\'exe',time.time()-t)\n",
    "pn.Row(hv.Raster(im_denoised_array).opts(**options),hv.Raster(im_good_array).opts(**options),hv.Raster(im_noised_array).opts(**options))"
   ]
  },
  {
   "cell_type": "code",
   "execution_count": null,
   "id": "tPg2wlyAE4_2",
   "metadata": {
    "colab": {
     "base_uri": "https://localhost:8080/",
     "height": 80
    },
    "id": "tPg2wlyAE4_2",
    "outputId": "9b994292-2cb8-4058-df77-6c054d32844b"
   },
   "outputs": [],
   "source": [
    "psnr=pd.DataFrame([PSNR(im_denoised_array, im_good_array)],columns=['PSNR image débruitée / image bruitée'])\n",
    "display(psnr)"
   ]
  },
  {
   "cell_type": "markdown",
   "id": "MHEbfDJfATn7",
   "metadata": {
    "id": "MHEbfDJfATn7"
   },
   "source": [
    "# Affichage des patchs voisins\n",
    "\n",
    "Pour illustrer le fonctionnement de la méthode, on présente ci dessous un code qui affiche les patchs voisins du patch associé à un pixel donné."
   ]
  },
  {
   "cell_type": "code",
   "execution_count": null,
   "id": "8c9557f0",
   "metadata": {},
   "outputs": [],
   "source": [
    "image=chargeData('carrelage')\n",
    "im_good=Image.fromarray(image)\n",
    "im_good = im_good.resize(new_size)\n",
    "im_good_array = np.asarray(im_good)\n",
    "im_noised_array=create_gaussian_noise(im_good_array,0,0.005)"
   ]
  },
  {
   "cell_type": "code",
   "execution_count": null,
   "id": "t9p1JP1Af_RZ",
   "metadata": {
    "id": "t9p1JP1Af_RZ"
   },
   "outputs": [],
   "source": [
    "def fct_padded_image(image, small_window_size): # Retourne l'image avec du padding sur les cotés\n",
    "    \"\"\"\n",
    "    image : image\n",
    "    small_window_size : taille des patchs\n",
    "    \"\"\"\n",
    "    # Les tailles des fenêtres doivent être impaires pour qu'elles soient centrées sur un pixel\n",
    "    if small_window_size % 2 == 0:\n",
    "        small_window_size += 1\n",
    "    # On définit les moitiés de patchs\n",
    "    small_half_width = small_window_size // 2\n",
    "    # On crée une image avec du padding sur les cotés\n",
    "    padded_image = np.ascontiguousarray(\n",
    "        np.pad(image, ((small_half_width, small_half_width), (small_half_width, small_half_width)),\n",
    "               mode='reflect').astype(np.float64))\n",
    "    return padded_image"
   ]
  },
  {
   "cell_type": "code",
   "execution_count": null,
   "id": "XA_V133dTB00",
   "metadata": {
    "id": "XA_V133dTB00"
   },
   "outputs": [],
   "source": [
    "def fct_coords_patch_ref(image, small_window_size , coord_pix): # Retourne les coordonnées du patch associé au pixel sélectionné\n",
    "    \"\"\"\n",
    "    image : image\n",
    "    small_window_size : taille des patchs\n",
    "    coord_pix : coordonnées associées à l'image de base\n",
    "    \"\"\"\n",
    "    # Les tailles des fenêtres doivent être impaires pour qu'elles soient centrées sur un pixel\n",
    "    if small_window_size % 2 == 0:\n",
    "        small_window_size += 1\n",
    "    # On définit les moitiés de patchs\n",
    "    small_half_width = small_window_size // 2\n",
    "    # On trouve les coordonnées dans l'image avec du padding\n",
    "    imageX = coord_pix[0] + small_window_size\n",
    "    imageY = coord_pix[1] + small_window_size\n",
    "    # On trouve les coordonnées du patch de référence\n",
    "    coords = [[imageY - small_half_width , imageY + small_half_width + 1], [imageX - small_half_width , imageX + small_half_width + 1]]\n",
    "    return coords"
   ]
  },
  {
   "cell_type": "code",
   "execution_count": null,
   "id": "bJC4AotFxcRc",
   "metadata": {
    "id": "bJC4AotFxcRc"
   },
   "outputs": [],
   "source": [
    "def fct_coords_big_patch(image, coord_x, coord_y, size_w): # Retourne les coordonnées inférieures de la grosse fenêtre de recherche de patchs (retourne les coordonnées de l'angle en haut à gauche).\n",
    "    \"\"\"\n",
    "    image : image\n",
    "    coord_x : coordonnée x\n",
    "    coord_y : coordonnée y\n",
    "    size_w : taille de la grosse fenêtre\n",
    "    \"\"\"\n",
    "    # On calcule les coordonnées de la grosse fenêtre de recherche\n",
    "    b_inf_x = coord_x - (size_w//2)\n",
    "    b_sup_x = coord_x + (size_w//2)\n",
    "    b_inf_y = coord_y - (size_w//2)\n",
    "    b_sup_y = coord_y + (size_w//2)\n",
    "    # On gère les cas ou on déborde de l'image\n",
    "    if b_inf_x < 0 :\n",
    "        b_sup_x -= b_inf_x\n",
    "        b_inf_x = 0\n",
    "    elif b_sup_x >= np.shape(image)[1] :\n",
    "        b_inf_x -= b_sup_x - (np.shape(image)[1] - 1)\n",
    "        b_sup_x = np.shape(image)[1] - 1\n",
    "    if b_inf_y < 0 :\n",
    "        b_sup_y -= b_inf_y\n",
    "        b_inf_y = 0\n",
    "    elif b_sup_y >= np.shape(image)[0] :\n",
    "        b_inf_y -= b_sup_y - (np.shape(image)[0] - 1)\n",
    "        b_sup_y = np.shape(image)[0] - 1\n",
    "    return [int(b_inf_y), int(b_sup_y+1)], [int(b_inf_x), int(b_sup_x+1)]"
   ]
  },
  {
   "cell_type": "code",
   "execution_count": null,
   "id": "V0bcUmZaS0LX",
   "metadata": {
    "id": "V0bcUmZaS0LX"
   },
   "outputs": [],
   "source": [
    "def fct_coords_patch_top4(image, big_window_size, small_window_size , coord_pix, h = 40): # Retourne les 4 patchs les plus ressemblants au patch ref\n",
    "    \"\"\"\n",
    "    image : image\n",
    "    big_window_size : taille de la grosse fenêtre\n",
    "    small_window_size : taille des patchs\n",
    "    coord_pix : coordonnées associées à l'image de base\n",
    "    h : parametre influençant le calcul des distances entre les patchs\n",
    "    \"\"\"\n",
    "    # Les tailles des fenêtres doivent être impaires pour qu'elles soient centrées sur un pixel\n",
    "    if small_window_size % 2 == 0:\n",
    "        small_window_size += 1\n",
    "    if big_window_size % 2 == 0:\n",
    "        big_window_size += 1\n",
    "    # On définit les moitiés de patchs\n",
    "    small_half_width = small_window_size // 2\n",
    "    big_half_width = big_window_size // 2\n",
    "    # On crée une image avec du padding sur les cotés\n",
    "    padded_image = np.ascontiguousarray(\n",
    "        np.pad(image, ((small_half_width, small_half_width), (small_half_width, small_half_width)),\n",
    "               mode='reflect').astype(np.float64))\n",
    "    # On trouve les coordonnées dans l'image avec du padding\n",
    "    imageX = coord_pix[0] + small_window_size\n",
    "    imageY = coord_pix[1] + small_window_size\n",
    "    t = small_window_size//2\n",
    "    A = ((small_window_size - 1.) / 4.)\n",
    "    range_vals = np.arange(-t, t + 1)\n",
    "    xg_row, xg_col = np.meshgrid(range_vals, range_vals, indexing='ij')\n",
    "    # On crée une matrice de poids w, qui pondère le calcul des distances entre patchs. Les pixels centraux des patchs sont ceux qui influencent le plus les distances entre patchs\n",
    "    w = np.ascontiguousarray(np.exp(-(xg_row ** 2  + xg_col ** 2)/ (2 * A**2)))\n",
    "    w *= 1. / (np.sum(w) * h**2)\n",
    "    # On trouve les coordonnées inférieures de la première petite fenêtre comprise dans la grosse fenêtre\n",
    "    bWinX, bWinY = big_patch(img = padded_image, coord_x = imageX , coord_y = imageY , size_w = big_window_size)\n",
    "    # On trouve la petite fenêtre de base\n",
    "    patch_ref = padded_image[imageY - small_half_width : imageY + small_half_width + 1, imageX - small_half_width : imageX + small_half_width + 1]\n",
    "    coord_list = []\n",
    "    weight_list = []\n",
    "    # On balaye sur tous les patchs possibles\n",
    "    for sWinX in range(bWinX, bWinX + big_window_size - small_window_size + 1):\n",
    "        for sWinY in range(bWinY, bWinY + big_window_size - small_window_size + 1):\n",
    "            # On vérifie que le patch ne soit pas le patch de base\n",
    "            if not((sWinY+small_half_width == imageY) and (sWinX+small_half_width == imageX)) :\n",
    "                # On trouve le patch\n",
    "                moving_patch = padded_image[sWinY : sWinY + small_window_size ,sWinX : sWinX + small_window_size]\n",
    "                # On calcule le poids, qui résulte de la distance pondérée entre les deux patchs\n",
    "                weight = patch_distance_2d(p1 = patch_ref, p2 = moving_patch, s = small_window_size, w = w)\n",
    "                # On ajoute le poids à la liste de poids\n",
    "                weight_list.append(weight)\n",
    "                # On trouve les coordonnées\n",
    "                coord_list.append([[sWinY , sWinY + small_window_size ],[sWinX , sWinX + small_window_size]])\n",
    "    # On trie les listes de manière décroissante selon les distances\n",
    "    zipped_lists = list(zip(weight_list, coord_list))\n",
    "    sorted_lists = sorted(zipped_lists, key=lambda x: x[0], reverse = True)\n",
    "    sorted_weight_list, sorted_coord_list = zip(*sorted_lists)\n",
    "\n",
    "    return sorted_coord_list[:4]"
   ]
  },
  {
   "cell_type": "code",
   "execution_count": null,
   "id": "rzKCZmBkyM2P",
   "metadata": {
    "id": "rzKCZmBkyM2P"
   },
   "outputs": [],
   "source": [
    "# On choisit la taille de la grosse fenêtre de recherche, la taille des patchs ainsi que les coordonnées du pixel que l'on veut étudier\n",
    "big_window_size = 101\n",
    "small_window_size = 7\n",
    "coord_pix = [35,27]"
   ]
  },
  {
   "cell_type": "code",
   "execution_count": null,
   "id": "iSElC6OUXesX",
   "metadata": {
    "id": "iSElC6OUXesX"
   },
   "outputs": [],
   "source": [
    "padded_image = fct_padded_image(image = im_noised_array,\n",
    "                                small_window_size = small_window_size)\n",
    "\n",
    "coords_patch_ref = fct_coords_patch_ref(image = im_noised_array,\n",
    "                                        small_window_size = small_window_size,\n",
    "                                        coord_pix = coord_pix)\n",
    "\n",
    "coords_big_patch = fct_coords_big_patch(image = padded_image,\n",
    "                                        coord_x = coord_pix[0] + small_window_size ,\n",
    "                                        coord_y = coord_pix[1] + small_window_size ,\n",
    "                                        size_w = big_window_size)\n",
    "\n",
    "coords_patch_top1, coords_patch_top2, coords_patch_top3, coords_patch_top4 = fct_coords_patch_top4(image = im_noised_array,\n",
    "                                                                                           big_window_size = big_window_size,\n",
    "                                                                                           small_window_size = small_window_size,\n",
    "                                                                                           coord_pix = coord_pix)"
   ]
  },
  {
   "cell_type": "code",
   "execution_count": null,
   "id": "8R3P4uQ1bmJG",
   "metadata": {
    "colab": {
     "base_uri": "https://localhost:8080/",
     "height": 451
    },
    "id": "8R3P4uQ1bmJG",
    "outputId": "620abc9d-8906-46bc-fcc9-ce5a323edd51"
   },
   "outputs": [],
   "source": [
    "plt.imshow(padded_image,cmap='gray')\n",
    "\n",
    "plt.plot([coords_big_patch[0][0],coords_big_patch[0][0]],[coords_big_patch[1][0],coords_big_patch[1][1]], color = 'g')\n",
    "plt.plot([coords_big_patch[0][1],coords_big_patch[0][1]],[coords_big_patch[1][0],coords_big_patch[1][1]], color = 'g')\n",
    "plt.plot([coords_big_patch[0][0],coords_big_patch[0][1]],[coords_big_patch[1][0],coords_big_patch[1][0]], color = 'g')\n",
    "plt.plot([coords_big_patch[0][0],coords_big_patch[0][1]],[coords_big_patch[1][1],coords_big_patch[1][1]], color = 'g')\n",
    "\n",
    "plt.plot([coords_patch_top1[0][0],coords_patch_top1[0][0]],[coords_patch_top1[1][0],coords_patch_top1[1][1]], color = 'r')\n",
    "plt.plot([coords_patch_top1[0][1],coords_patch_top1[0][1]],[coords_patch_top1[1][0],coords_patch_top1[1][1]], color = 'r')\n",
    "plt.plot([coords_patch_top1[0][0],coords_patch_top1[0][1]],[coords_patch_top1[1][0],coords_patch_top1[1][0]], color = 'r')\n",
    "plt.plot([coords_patch_top1[0][0],coords_patch_top1[0][1]],[coords_patch_top1[1][1],coords_patch_top1[1][1]], color = 'r')\n",
    "\n",
    "plt.plot([coords_patch_top2[0][0],coords_patch_top2[0][0]],[coords_patch_top2[1][0],coords_patch_top2[1][1]], color = 'r')\n",
    "plt.plot([coords_patch_top2[0][1],coords_patch_top2[0][1]],[coords_patch_top2[1][0],coords_patch_top2[1][1]], color = 'r')\n",
    "plt.plot([coords_patch_top2[0][0],coords_patch_top2[0][1]],[coords_patch_top2[1][0],coords_patch_top2[1][0]], color = 'r')\n",
    "plt.plot([coords_patch_top2[0][0],coords_patch_top2[0][1]],[coords_patch_top2[1][1],coords_patch_top2[1][1]], color = 'r')\n",
    "\n",
    "plt.plot([coords_patch_top3[0][0],coords_patch_top3[0][0]],[coords_patch_top3[1][0],coords_patch_top3[1][1]], color = 'r')\n",
    "plt.plot([coords_patch_top3[0][1],coords_patch_top3[0][1]],[coords_patch_top3[1][0],coords_patch_top3[1][1]], color = 'r')\n",
    "plt.plot([coords_patch_top3[0][0],coords_patch_top3[0][1]],[coords_patch_top3[1][0],coords_patch_top3[1][0]], color = 'r')\n",
    "plt.plot([coords_patch_top3[0][0],coords_patch_top3[0][1]],[coords_patch_top3[1][1],coords_patch_top3[1][1]], color = 'r')\n",
    "\n",
    "plt.plot([coords_patch_top4[0][0],coords_patch_top4[0][0]],[coords_patch_top4[1][0],coords_patch_top4[1][1]], color = 'r')\n",
    "plt.plot([coords_patch_top4[0][1],coords_patch_top4[0][1]],[coords_patch_top4[1][0],coords_patch_top4[1][1]], color = 'r')\n",
    "plt.plot([coords_patch_top4[0][0],coords_patch_top4[0][1]],[coords_patch_top4[1][0],coords_patch_top4[1][0]], color = 'r')\n",
    "plt.plot([coords_patch_top4[0][0],coords_patch_top4[0][1]],[coords_patch_top4[1][1],coords_patch_top4[1][1]], color = 'r')\n",
    "\n",
    "plt.plot(coord_pix[1]+ small_window_size,coord_pix[0]+ small_window_size,'*',color = 'b')\n",
    "plt.plot([coords_patch_ref[0][0],coords_patch_ref[0][0]],[coords_patch_ref[1][0],coords_patch_ref[1][1]], color = 'b')\n",
    "plt.plot([coords_patch_ref[0][1],coords_patch_ref[0][1]],[coords_patch_ref[1][0],coords_patch_ref[1][1]], color = 'b')\n",
    "plt.plot([coords_patch_ref[0][0],coords_patch_ref[0][1]],[coords_patch_ref[1][0],coords_patch_ref[1][0]], color = 'b')\n",
    "plt.plot([coords_patch_ref[0][0],coords_patch_ref[0][1]],[coords_patch_ref[1][1],coords_patch_ref[1][1]], color = 'b')"
   ]
  },
  {
   "cell_type": "code",
   "execution_count": null,
   "id": "sqHXo3xZYaFA",
   "metadata": {
    "colab": {
     "base_uri": "https://localhost:8080/",
     "height": 621
    },
    "id": "sqHXo3xZYaFA",
    "outputId": "7275f39b-aea8-433e-e504-1a3abe7bc05c"
   },
   "outputs": [],
   "source": [
    "patch_ref =  padded_image[coords_patch_ref[1][0]:coords_patch_ref[1][1],coords_patch_ref[0][0]:coords_patch_ref[0][1]]\n",
    "patch_top1 = padded_image[coords_patch_top1[1][0]:coords_patch_top1[1][1],coords_patch_top1[0][0]:coords_patch_top1[0][1]]\n",
    "patch_top2 = padded_image[coords_patch_top2[1][0]:coords_patch_top2[1][1],coords_patch_top2[0][0]:coords_patch_top2[0][1]]\n",
    "patch_top3 = padded_image[coords_patch_top3[1][0]:coords_patch_top3[1][1],coords_patch_top3[0][0]:coords_patch_top3[0][1]]\n",
    "patch_top4 = padded_image[coords_patch_top4[1][0]:coords_patch_top4[1][1],coords_patch_top4[0][0]:coords_patch_top4[0][1]]\n",
    "\n",
    "pn.Row(hv.Raster(patch_ref).opts(**options),hv.Raster(patch_top1).opts(**options),hv.Raster(patch_top2).opts(**options),hv.Raster(patch_top3).opts(**options),hv.Raster(patch_top4).opts(**options))"
   ]
  },
  {
   "cell_type": "code",
   "execution_count": null,
   "id": "234fb81f",
   "metadata": {},
   "outputs": [],
   "source": []
  }
 ],
 "metadata": {
  "accelerator": "GPU",
  "colab": {
   "gpuType": "T4",
   "provenance": []
  },
  "kernelspec": {
   "display_name": "Python 3 (ipykernel)",
   "language": "python",
   "name": "python3"
  },
  "language_info": {
   "codemirror_mode": {
    "name": "ipython",
    "version": 3
   },
   "file_extension": ".py",
   "mimetype": "text/x-python",
   "name": "python",
   "nbconvert_exporter": "python",
   "pygments_lexer": "ipython3",
   "version": "3.11.5"
  },
  "varInspector": {
   "cols": {
    "lenName": 16,
    "lenType": 16,
    "lenVar": 40
   },
   "kernels_config": {
    "python": {
     "delete_cmd_postfix": "",
     "delete_cmd_prefix": "del ",
     "library": "var_list.py",
     "varRefreshCmd": "print(var_dic_list())"
    },
    "r": {
     "delete_cmd_postfix": ") ",
     "delete_cmd_prefix": "rm(",
     "library": "var_list.r",
     "varRefreshCmd": "cat(var_dic_list()) "
    }
   },
   "types_to_exclude": [
    "module",
    "function",
    "builtin_function_or_method",
    "instance",
    "_Feature"
   ],
   "window_display": false
  }
 },
 "nbformat": 4,
 "nbformat_minor": 5
}
